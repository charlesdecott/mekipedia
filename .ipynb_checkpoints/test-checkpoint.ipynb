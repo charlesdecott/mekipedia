{
 "cells": [
  {
   "cell_type": "markdown",
   "metadata": {},
   "source": [
    "# MEKIPEDIA\n",
    "\n",
    "    Geographic zone\n",
    "        Galaxy supercluster (can be a part of bigger supercluster)\n",
    "            Galaxy group (cluster)\n",
    "                Galaxy\n",
    "                    solar system\n",
    "                        Planet\n",
    "                            Moon\n",
    "                            Continent\n",
    "                                Country\n",
    "                                    region\n",
    "                                        department\n",
    "                                            (comte)\n",
    "                                                ville\n",
    "                                                    quartier\n",
    "                                                        street\n",
    "                                                            adress\n",
    "    \n",
    "    People\n",
    "        Singer\n",
    "            Band\n",
    "        Actor\n",
    "        Sport player\n",
    "            Football\n",
    "        \n",
    "    Classement\n",
    "        billboard top 10\n",
    "        Ligue 1 (peut etre un classement sportif)\n",
    "        Festival de Canne ?\n",
    "        \n",
    "    Art\n",
    "        Musique\n",
    "            Album\n",
    "        Film / serie\n",
    "        Architecture\n",
    "        sculptur\n",
    "        peinture / dessin\n",
    "        litterature \n",
    "            livre\n",
    "            poesie\n",
    "            poeme\n",
    "        scene\n",
    "            danse\n",
    "            theatre\n",
    "            mime"
   ]
  },
  {
   "cell_type": "markdown",
   "metadata": {},
   "source": [
    "## Geographic zone"
   ]
  },
  {
   "cell_type": "code",
   "execution_count": null,
   "metadata": {},
   "outputs": [],
   "source": [
    "continent = #Eurasie et Ameriques ??\n",
    "{ \n",
    "    'europe':{'planet':'earth','border':POLYGON_SHAPEFILE},\n",
    "    'asie':{'planet':'earth','border':POLYGON_SHAPEFILE},\n",
    "    'oceanie':{'planet':'earth','border':POLYGON_SHAPEFILE},\n",
    "    'afrique':{'planet':'earth','border':POLYGON_SHAPEFILE},\n",
    "    'amerique-nord':{'planet':'earth','border':POLYGON_SHAPEFILE},\n",
    "    'amerique-sud':{'planet':'earth','border':POLYGON_SHAPEFILE},\n",
    "    'antarctique':{'planet':'earth','border':POLYGON_SHAPEFILE}\n",
    "}"
   ]
  },
  {
   "cell_type": "code",
   "execution_count": null,
   "metadata": {},
   "outputs": [],
   "source": [
    "country = \n",
    "{\n",
    "    'france':{'continent':'europe','border':POLYGON_SHAPEFILE,'iso2':'FR','demographie':66000000},\n",
    "    'united kingdom':{'continent':'europe','border':POLYGON_SHAPEFILE,'iso2':'UK','demographie':37000000},\n",
    "    'australia':{'continent':'oceanie','border':POLYGON_SHAPEFILE,'iso2':'AU','demographie':126000000},\n",
    "    'chile':{'continent':'amerique-sud','border':POLYGON_SHAPEFILE,'iso2':'CL','demographie':56000000},\n",
    "}"
   ]
  },
  {
   "cell_type": "code",
   "execution_count": null,
   "metadata": {},
   "outputs": [],
   "source": [
    "region = \n",
    "{\n",
    "    'auvergne-rhone alpes':{'country':'france','border':POLYGON_SHAPEFILE,'ISO 3166-2:FR':'FR-ARA','capital':'Lyon'},\n",
    "    'hauts de france':{'country':'france','border':POLYGON_SHAPEFILE,'ISO 3166-2:FR':'FR-HDF','capital':'Lille'}\n",
    "}"
   ]
  },
  {
   "cell_type": "code",
   "execution_count": null,
   "metadata": {},
   "outputs": [],
   "source": [
    "department =\n",
    "{\n",
    "    'drome':{'region':'FR-ARA','ISO 3166-2:FR':'FR-26','insee':26,'border':POLYGON_SHAPEFILE,\n",
    "             'capital':'Valence','gentile':'Dromois'},\n",
    "    'nord':{'region':'FR-HDF','ISO 3166-2:FR':'FR-59','insee':59,'border':POLYGON_SHAPEFILE,\n",
    "            'capital':'Lille','gentile':'Nordistes'}\n",
    "}"
   ]
  },
  {
   "cell_type": "code",
   "execution_count": null,
   "metadata": {},
   "outputs": [],
   "source": [
    "city =\n",
    "{\n",
    "    'grenoble':{'department':'FR-38','insee':38185,'zip':[38000,38100],'border':POLYGON_SHAPEFILE,\n",
    "                'gentile':'Grenoblois','maire':'Eric Piolle'}\n",
    "}"
   ]
  },
  {
   "cell_type": "code",
   "execution_count": null,
   "metadata": {},
   "outputs": [],
   "source": [
    "quartier =\n",
    "{\n",
    "    'teisseire':{'city':38185,'border':POLYGON_SHAPEFILE},\n",
    "    'village olympique':{'city':38185,'border':POLYGON_SHAPEFILE}\n",
    "}"
   ]
  },
  {
   "cell_type": "code",
   "execution_count": null,
   "metadata": {},
   "outputs": [],
   "source": [
    "street =\n",
    "{\n",
    "    'allée des deux mondes':{'quartier':'village olympique','city':38185}\n",
    "}"
   ]
  },
  {
   "cell_type": "code",
   "execution_count": null,
   "metadata": {},
   "outputs": [],
   "source": [
    "adress =\n",
    "{\n",
    "    '54':{'street':'allée des deux mondes','city':38185}\n",
    "}"
   ]
  }
 ],
 "metadata": {
  "kernelspec": {
   "display_name": "Python 3",
   "language": "python",
   "name": "python3"
  },
  "language_info": {
   "codemirror_mode": {
    "name": "ipython",
    "version": 3
   },
   "file_extension": ".py",
   "mimetype": "text/x-python",
   "name": "python",
   "nbconvert_exporter": "python",
   "pygments_lexer": "ipython3",
   "version": "3.6.7"
  }
 },
 "nbformat": 4,
 "nbformat_minor": 2
}
